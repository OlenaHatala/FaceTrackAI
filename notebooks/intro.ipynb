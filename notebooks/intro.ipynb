{
 "cells": [
  {
   "cell_type": "markdown",
   "metadata": {},
   "source": [
    "# Overview of Libraries for CV\n",
    "\n",
    "<ol>\n",
    "    <li>\n",
    "        <b>OpenCV (Open Source Computer Vision Library)</b><br>\n",
    "        OpenCv is one of the most popular libraries for image and video processing. It provides a wide range of algorithms for image analysis, such as filtering, segmentation, face recognition, and edge detection.<br><br>\n",
    "        Key features of OpenCV<br>\n",
    "        <ul>\n",
    "            <li>Reading and writing images and videos (<code>cv2.imread()</code>, <code>cv2.VideoCapture()</code>).</li>\n",
    "            <li>Resizing, rotating, and flipping images (<code>cv2.resize()</code>, <code>cv2.rotate()</code>).</li>\n",
    "            <li>Working with color spaces (RGB, HSV, Grayscale).</li>\n",
    "            <li>Filtering and enhancing images (blurring, contrast enhancement).</li>\n",
    "        </ul>\n",
    "    </li><br><br>\n",
    "    <li>\n",
    "        <b>PIL (Pillow – Python Imaging Library)</b><br>\n",
    "        Pillow is an improved version of the classical PIL library for image processing. It allows easy manipulation of images in various formats (JPEG, PNG, BMP, etc.) and supports multiple transformations.<br><br>\n",
    "        Key features of Pillow:<br>\n",
    "        <ul>\n",
    "            <li>Opening images (<code>Image.open()</code>).</li>\n",
    "            <li>Changing format, resizing, and rotating images (<code>Image.resize()</code>, <code>image.rotate()</code>).</li>\n",
    "            <li>Pixel manipulation (<code>Image.getpixel()</code>, <code>Image.putpixel()</code>).</li>\n",
    "            <li>Saving images in different formats (<code>Image.save()</code>).</li>\n",
    "        </ul>\n",
    "    </li><br><br>\n",
    "    <li>\n",
    "        <b>NumPy (Numerical Python)</b><br>\n",
    "        NumPy is a scientific computing library widely used in image processing since images are represented as multidimensional arrays.<br><br>\n",
    "        Key features of NumPy:<br>\n",
    "        <ul>\n",
    "            <li>Representing images as arrays (<code>np.array(image)</code>).</li>\n",
    "            <li>Adjusting brightness, contrast, and applying filters.</li>\n",
    "            <li>Performing mathematical operations on images (addition, multiplication, normalization).</li>\n",
    "            <li>Generating test images (<code>np.zeros()</code>, <code>np.ones()</code>).</li>\n",
    "        </ul>\n",
    "    </li><br><br>\n",
    "    These libraries are often used together: OpenCV provides fast image processing, PIL offers convenient tools for image manipulation, and NumPy enables efficient mathematical operations.\n",
    "</ol>"
   ]
  },
  {
   "cell_type": "markdown",
   "metadata": {},
   "source": []
  }
 ],
 "metadata": {
  "language_info": {
   "name": "python"
  }
 },
 "nbformat": 4,
 "nbformat_minor": 2
}
